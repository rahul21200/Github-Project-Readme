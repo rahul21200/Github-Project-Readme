{
 "cells": [
  {
   "cell_type": "code",
   "execution_count": 3,
   "metadata": {},
   "outputs": [],
   "source": [
    "# import the cv2 library\n",
    "import cv2\n",
    " \n",
    "# The function cv2.imread() is used to read an image.\n",
    "img_grayscale = cv2.imread('assets/img1.jpeg',0)\n",
    " \n",
    "# The function cv2.imshow() is used to display an image in a window.\n",
    "cv2.imshow('graycsale image',img_grayscale)\n",
    " \n",
    "# waitKey() waits for a key press to close the window and 0 specifies indefinite loop\n",
    "cv2.waitKey(0)\n",
    " \n",
    "# cv2.destroyAllWindows() simply destroys all the windows we created.\n",
    "cv2.destroyAllWindows()\n",
    " \n",
    "# The function cv2.imwrite() is used to write an image.\n",
    "# cv2.imwrite('grayscale.jpg',img_grayscale)"
   ]
  },
  {
   "cell_type": "code",
   "execution_count": 3,
   "metadata": {},
   "outputs": [
    {
     "name": "stderr",
     "output_type": "stream",
     "text": [
      "usage: ipykernel_launcher.py [-h] [--face_cascade FACE_CASCADE]\n",
      "                             [--eyes_cascade EYES_CASCADE] [--camera CAMERA]\n",
      "ipykernel_launcher.py: error: unrecognized arguments: --ip=127.0.0.1 --stdin=9004 --control=9002 --hb=9000 --Session.signature_scheme=\"hmac-sha256\" --Session.key=b\"2345bd4c-f4d1-4c9a-8638-66392f628ac1\" --shell=9003 --transport=\"tcp\" --iopub=9005\n"
     ]
    },
    {
     "ename": "SystemExit",
     "evalue": "2",
     "output_type": "error",
     "traceback": [
      "An exception has occurred, use %tb to see the full traceback.\n",
      "\u001b[1;31mSystemExit\u001b[0m\u001b[1;31m:\u001b[0m 2\n"
     ]
    }
   ],
   "source": []
  }
 ],
 "metadata": {
  "kernelspec": {
   "display_name": "Python 3",
   "language": "python",
   "name": "python3"
  },
  "language_info": {
   "codemirror_mode": {
    "name": "ipython",
    "version": 3
   },
   "file_extension": ".py",
   "mimetype": "text/x-python",
   "name": "python",
   "nbconvert_exporter": "python",
   "pygments_lexer": "ipython3",
   "version": "3.9.6"
  },
  "orig_nbformat": 4,
  "vscode": {
   "interpreter": {
    "hash": "1d5c1156327dacead463cc502c55ebae8ce9c8c01979cf154173ff808e75bf55"
   }
  }
 },
 "nbformat": 4,
 "nbformat_minor": 2
}
